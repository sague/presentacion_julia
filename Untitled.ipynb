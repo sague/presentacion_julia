{
 "cells": [
  {
   "cell_type": "markdown",
   "metadata": {
    "slideshow": {
     "slide_type": "slide"
    }
   },
   "source": [
    "\n",
    "# Julia: Paradigmas y Aplicaciones\n",
    "### Rocío Salinas, Jesús Mejía\n",
    "#### Universidad Veracruzana\n"
   ]
  },
  {
   "cell_type": "markdown",
   "metadata": {
    "slideshow": {
     "slide_type": "slide"
    }
   },
   "source": [
    "## ¿Quiénes somos?\n"
   ]
  },
  {
   "cell_type": "markdown",
   "metadata": {
    "slideshow": {
     "slide_type": "slide"
    }
   },
   "source": [
    "## Equipo\n",
    "\n",
    "<center>\n",
    "<img src=\"img/uv.png\" style=\"display:inline;\" alt=\"drawing\" width=\"150\"/>\n",
    "<img src=\"img/ciia.png\" style=\"display:inline;\" alt=\"drawing\" width=\"150\"/>\n",
    "<img src=\"img/mate.png\" style=\"display:inline;\" alt=\"drawing\" width=\"150\"/>\n",
    "</center>"
   ]
  },
  {
   "cell_type": "markdown",
   "metadata": {
    "slideshow": {
     "slide_type": "subslide"
    }
   },
   "source": [
    "* Jesús Adolfo Mejía\n",
    "\n",
    "<img src=\"img/adolfo.jpg\" style=\"display:inline;\" alt=\"drawing\" width=\"200\"/>\n",
    "\n",
    "* Rocío Salinas\n",
    "\n",
    "<img src=\"img/rocio.jpg\" style=\"display:inline;\" alt=\"drawing\" width=\"200\"/>\n"
   ]
  },
  {
   "cell_type": "markdown",
   "metadata": {
    "slideshow": {
     "slide_type": "subslide"
    }
   },
   "source": [
    "\n",
    "## Usuarios Eventuales \n",
    "\n",
    "<center>\n",
    "<img src=\"img/efren.png\" style=\"display:inline;\" alt=\"drawing\" width=\"250\"/>\n",
    "<img src=\"img/yair.jpg\" style=\"display:inline;\" alt=\"drawing\" width=\"250\"/>\n",
    "<img src=\"img/aaron.jpg\" style=\"display:inline;\" alt=\"drawing\" width=\"250\"/>\n",
    "</center>\n"
   ]
  },
  {
   "cell_type": "markdown",
   "metadata": {
    "slideshow": {
     "slide_type": "slide"
    }
   },
   "source": [
    "## Motivación"
   ]
  },
  {
   "cell_type": "markdown",
   "metadata": {
    "slideshow": {
     "slide_type": "subslide"
    }
   },
   "source": [
    "### Fácil de usar\n",
    "$$\n",
    "f(x) = \\sum_{i=1}^n x_i^2 - 10\\cos(2\\pi x_i)\n",
    "$$"
   ]
  },
  {
   "cell_type": "markdown",
   "metadata": {
    "slideshow": {
     "slide_type": "fragment"
    }
   },
   "source": [
    "#### Python\n",
    "```python\n",
    "from math import cos, pi\n",
    "g = lambda xi: xi**2 - 10*cos(2*pi*xi)\n",
    "f = lambda x: sum(map( g, x ))\n",
    "```\n"
   ]
  },
  {
   "cell_type": "markdown",
   "metadata": {
    "slideshow": {
     "slide_type": "fragment"
    }
   },
   "source": [
    "\n",
    "#### Julia\n",
    "```julia\n",
    "f(x) = sum( x.^2 - 10cos.(2π*x) )\n",
    "```"
   ]
  },
  {
   "cell_type": "markdown",
   "metadata": {
    "slideshow": {
     "slide_type": "subslide"
    }
   },
   "source": [
    "### Comunicación con Diferentes Lenguajes\n",
    "Trivial"
   ]
  },
  {
   "cell_type": "code",
   "execution_count": 7,
   "metadata": {
    "slideshow": {
     "slide_type": "fragment"
    }
   },
   "outputs": [
    {
     "data": {
      "text/plain": [
       "0.7071067811865475"
      ]
     },
     "execution_count": 7,
     "metadata": {},
     "output_type": "execute_result"
    }
   ],
   "source": [
    "using PyCall\n",
    "math = pyimport(\"math\")\n",
    "math.sin(math.pi / 4) # returns ≈ 1/√2 = 0.70710678..."
   ]
  },
  {
   "cell_type": "code",
   "execution_count": 7,
   "metadata": {
    "scrolled": true,
    "slideshow": {
     "slide_type": "subslide"
    }
   },
   "outputs": [],
   "source": [
    "using MATLAB\n",
    "\n",
    "x = range(-10.0, stop=10.0, length=500)\n",
    "mat\"plot($x, sin($x))\"  # evaluate a MATLAB function\n",
    "\n",
    "y = range(2.0, stop=3.0, length=500)\n",
    "mat\"\"\"\n",
    "    $u = $x + $y;\n",
    "\t$v = $x - $y;\n",
    "\"\"\"\n",
    "#@show u v  "
   ]
  },
  {
   "cell_type": "markdown",
   "metadata": {
    "slideshow": {
     "slide_type": "slide"
    }
   },
   "source": [
    "\n",
    "## Proyectos\n",
    "\n",
    "* Teoría de Graficas\n",
    "* Optimización\n",
    "    - Combinatoria\n",
    "    - Cómputo Evolutivo\n",
    "    - Binivel\n",
    "* Análisis de Imágenes\n",
    "* Machine Learning (Aprendizaje automático)\n",
    "* Cadenas de Markov\n",
    "\n",
    "\n"
   ]
  },
  {
   "cell_type": "markdown",
   "metadata": {
    "slideshow": {
     "slide_type": "subslide"
    }
   },
   "source": [
    "## Teoría de Gráficas\n",
    "\n",
    "Consideremos una región compacta  $\\mathcal{R} \\subset \\mathbb{R}^n$ y dos puntos $A,\\ B \\in \\mathcal{R}$.\n",
    "\n",
    "\n",
    "El objetivo es encontrar una trayectoria $p$ de $A$ a $B$ que minimice la integral de línea sobre $p$ de una función de costo que depende de la posición y restricción $g$ dada.\n",
    "\n"
   ]
  },
  {
   "cell_type": "markdown",
   "metadata": {
    "slideshow": {
     "slide_type": "fragment"
    }
   },
   "source": [
    "\n",
    "\n",
    "![](gif/tmp2.gif)\n",
    "\n"
   ]
  },
  {
   "cell_type": "markdown",
   "metadata": {
    "slideshow": {
     "slide_type": "subslide"
    }
   },
   "source": [
    "### Optimización \n",
    "\n",
    "Minimizar:\n",
    "\n",
    "$$\n",
    "    f(x),\\ x \\in X\n",
    "$$\n",
    "donde $f$ es una función acotada inferiormente."
   ]
  },
  {
   "cell_type": "markdown",
   "metadata": {
    "slideshow": {
     "slide_type": "subslide"
    }
   },
   "source": [
    "## Computo Evolutivo\n",
    "![](gif/eca.gif)"
   ]
  },
  {
   "cell_type": "markdown",
   "metadata": {
    "slideshow": {
     "slide_type": "subslide"
    }
   },
   "source": [
    "## Paquete: Metaheuristics\n",
    "\n",
    "Ejemplo de uso: Minimizar\n",
    "\n",
    "$$\n",
    "    f(x) = \\sum_{i=1}^n x_i^2\n",
    "$$\n",
    "con $n = 4$ y $x = [-10,  10]^n$\n",
    "\n",
    "Implementación:\n",
    "\n",
    "\n",
    "```julia\n",
    "using Metaheuristics\n",
    "\n",
    "# Objective function\n",
    "sphere(x) = sum(x.^2)\n",
    "\n",
    "bounds = [-10 -10 -10 -10;\n",
    "             10  10  10  10\n",
    "]\n",
    "\n",
    "eca = ECA()\n",
    "\n",
    "result = optimize(sphere, bounds, eca)\n",
    "```"
   ]
  },
  {
   "cell_type": "markdown",
   "metadata": {
    "slideshow": {
     "slide_type": "subslide"
    }
   },
   "source": [
    "## Mecanismo sistemático de cuatro barras\n",
    "The vector of design variables is\n",
    "\n",
    "\\begin{equation}\n",
    "        \\vec{p} = ( r_1,\\ r_2,\\ r_3,\\ r_4,\\ r_{cx},\\ r_{cy},\\ x_0,\\ y_0,\\ \\theta_0,\\ \\theta_2^1,\\ \\theta_2^2,\\ \\ldots,\\       \\theta_2^n  ) \\in S \\subset \\mathbb{R}^{9+n},\n",
    "        \\label{eqn:desigVars}\n",
    "\\end{equation}\n",
    "\n",
    "\n",
    "where the search space is $S = [0,\\ 60]^4 \\times [-60,\\ 60]^4 \\times [0,\\ 2\\pi ]^{n+1} $, i.e. each boundary is:\n",
    "\n",
    "\n",
    "\\begin{align*}\n",
    "           r_1,\\ r_2,\\ r_3,\\ r_4 & \\in [0,\\ 60]\\\\\n",
    "     r_{cx},\\ r_{cy},\\ x_0,\\ y_0 & \\in [-60, 60]\\\\  \n",
    "    \\theta_0,\\ \\theta_2^1,\\ \\ldots,\\ \\theta_2^n &\\in [0, 2\\pi].\n",
    "\\end{align*}"
   ]
  },
  {
   "cell_type": "markdown",
   "metadata": {
    "slideshow": {
     "slide_type": "subslide"
    }
   },
   "source": [
    "$r_1$ es fija y $r_2$ se mueve. $C$ debe seguir una trayectoria.\n",
    "![](img/cuartro.png)"
   ]
  },
  {
   "cell_type": "markdown",
   "metadata": {
    "slideshow": {
     "slide_type": "subslide"
    }
   },
   "source": [
    "![](gif/case1.gif)"
   ]
  },
  {
   "cell_type": "markdown",
   "metadata": {
    "slideshow": {
     "slide_type": "subslide"
    }
   },
   "source": [
    "![](gif/case2.gif)"
   ]
  },
  {
   "cell_type": "markdown",
   "metadata": {
    "slideshow": {
     "slide_type": "subslide"
    }
   },
   "source": [
    "![](gif/case3.gif)"
   ]
  },
  {
   "cell_type": "markdown",
   "metadata": {
    "slideshow": {
     "slide_type": "subslide"
    }
   },
   "source": [
    "## Combinatoria\n",
    "\n",
    "### Bin Packing Problem\n",
    "\n",
    "Dados $n$ objetos de diferentes pesos y contenedores de capacidad $c$, se asigna cada objeto a un contenedor de modo que se minimice el número total de contenedores utilizados. \n",
    "![](img/bpp.png)"
   ]
  },
  {
   "cell_type": "markdown",
   "metadata": {
    "slideshow": {
     "slide_type": "subslide"
    }
   },
   "source": [
    "### Set Covering\n",
    "Es un problema clásico en optimización combinatoria, ciencias de la computación y en teoría de la complejidad computacional, el cual consiste básicamente en identificar el menor número de conjuntos cuya unión contenga a todos los elementos del universo.\n",
    "![](img/scp.png)"
   ]
  },
  {
   "cell_type": "markdown",
   "metadata": {
    "slideshow": {
     "slide_type": "subslide"
    }
   },
   "source": [
    "## Cadenas de Markov\n",
    "\n",
    "### Q-coloring\n",
    "\n",
    "Simular el modelo de núcleo duro en una cuadrícula de k × k \n",
    "\n",
    "**Algoritmo Ejemplo 7.2** \n",
    "1. Escoja un vértice $v ∈ V$ al azar (uniformemente).\n",
    "2. Lanzar una moneda.\n",
    "3. Si la moneda sale cara, y todos los vecinos de $v$ toman el valor 0 en $X_n$, entonces $X_{n + 1}(v) = 1$; de lo contrario, deje $X_{n + 1}(v) = 0$.\n",
    "4. Para todos los vértices $w$ distintos de $v$, deje el valor en $w$ sin cambios, es decir, sea $X_{n + 1} (w) = X_n (w)$"
   ]
  },
  {
   "cell_type": "markdown",
   "metadata": {
    "slideshow": {
     "slide_type": "subslide"
    }
   },
   "source": [
    "![](gif/tmp.gif)"
   ]
  },
  {
   "cell_type": "markdown",
   "metadata": {
    "slideshow": {
     "slide_type": "slide"
    }
   },
   "source": [
    "\n",
    "## Eventos y Publicaciones\n",
    "\n",
    "* Inteligencia Artificial: Una mirada desde el arte\n",
    "*  Introducción a la Computación Evolutivo \n",
    "        Jesus Adolfo Mejía de Dios\n",
    "        Yair Guzmán Gaspar\n",
    "    \n",
    "*  Introducción a la Computación Evolutivo \n",
    "        Dr. Efrén Mezura Montes \n",
    "        Centro de Investigación en Inteligencia Artificial, Universidad Veracruzana \n",
    "\n",
    "* Publicaciones:\n",
    " - A new evolutionary optimization method based on center of mass. In Decision Science in Action (pp. 65-74). Springer, Singapore.\n",
    " - A Physics-Inspired Algorithm for Bilevel optimization. In 2018 IEEE International Autumn Meeting on Power, Electronics and Computing (ROPEC) (pp. 1-6). IEEE.\n",
    " - A Metaheuristic for Bilevel Optimization Using Tykhonov Regularization and the Quasi-Newton Method. In 2019 IEEE Congress on Evolutionary Computation (CEC) (pp. 3134-3141). IEEE.\n"
   ]
  },
  {
   "cell_type": "markdown",
   "metadata": {
    "slideshow": {
     "slide_type": "slide"
    }
   },
   "source": [
    "## Eventos a Futuro\n",
    "\n",
    "\n",
    "        \n",
    "* Curso: Julia para IA\n",
    "        Jesús Adolfo Mejía de Dios, Rocío Salinas Guerra\n",
    "        Centro de Investigación en Inteligencia Artificial\n",
    "        Aadémicos y Alumnos\n",
    "        Fecha: Por definir\n",
    "\n",
    "* Curso: Algoritmos evolutivos y de inteligencia colectiva \n",
    "        Jesús Adolfo Mejía de Dios\n",
    "        Seminario de Ingeniería en Computación 2019\n",
    "        Facultad de Ciencias Básicas Ingeniería y Tecnología\n",
    "        UATx,, Apizaco\n",
    "        Fecha: 25 de Octubre\n",
    "        \n",
    "* Curso: Introducción al Cómputo Cientifico\n",
    "        Rocío Salinas Guerra\n",
    "        Fecha: Por definir"
   ]
  },
  {
   "cell_type": "markdown",
   "metadata": {
    "slideshow": {
     "slide_type": "slide"
    }
   },
   "source": [
    "## Jupyter Notebook en una Red Local\n",
    "\n",
    "```\n",
    "jupyter notebook --i xxxxxxxx\n",
    "```"
   ]
  },
  {
   "cell_type": "markdown",
   "metadata": {},
   "source": [
    "## Gracias"
   ]
  }
 ],
 "metadata": {
  "celltoolbar": "Slideshow",
  "kernelspec": {
   "display_name": "Julia 1.1.1",
   "language": "julia",
   "name": "julia-1.1"
  },
  "language_info": {
   "file_extension": ".jl",
   "mimetype": "application/julia",
   "name": "julia",
   "version": "1.1.1"
  }
 },
 "nbformat": 4,
 "nbformat_minor": 2
}
